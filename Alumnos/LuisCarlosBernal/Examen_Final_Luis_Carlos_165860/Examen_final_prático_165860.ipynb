{
 "cells": [
  {
   "cell_type": "code",
   "execution_count": 20,
   "metadata": {},
   "outputs": [],
   "source": [
    "#Importación de librerías\n",
    "import numpy as np\n",
    "from numpy import linalg as LA\n",
    "import random"
   ]
  },
  {
   "cell_type": "code",
   "execution_count": 4,
   "metadata": {},
   "outputs": [],
   "source": [
    "#FUNCIONES HECHAS EN CLASE\n",
    "def cuadrados(x):\n",
    "    resultado = 0\n",
    "    for i in range(len(x)):\n",
    "        resultado += x[i]**2\n",
    "    return resultado"
   ]
  },
  {
   "cell_type": "code",
   "execution_count": 5,
   "metadata": {},
   "outputs": [],
   "source": [
    "def Hess(f, x0, h=1e-4, method=\"basic\"):\n",
    "    \"\"\"\n",
    "    Función que calcula la Hessiana  de una función en un punto.\n",
    "    f: función sobre la cual queremos calcular la hessiana.\n",
    "    x0: Punto sobre el cual queremos hacer el cálculo\n",
    "    h: nivel de precisión para hacer el cálculo\n",
    "    method: Método por el cual se quiere hacer puede ser:\n",
    "             'basic', 'grad', 'centered', 'gradCentered'\n",
    "    \"\"\"\n",
    "    n = len(x0)\n",
    "    Hess = np.zeros((n, n))\n",
    "    for i in range(n):\n",
    "        for j in range(n):\n",
    "            z_i = np.zeros(n)\n",
    "            z_i[i] = h\n",
    "            z_j = np.zeros(n)\n",
    "            z_j[j] = h\n",
    "            if method == \"basic\":\n",
    "                Hess[i, j] = (f(x0 + z_j + z_i) - f(x0 + z_i) -\n",
    "                              f(x0+z_j) + f(x0)) / (h**2)\n",
    "            elif method == \"grad\":\n",
    "                Hess[i, j] = (Grad(f, x0+z_j, h, i) - Grad(f, x0, h, i) +\n",
    "                              Grad(f, x0+z_i, h, j) - Grad(f, x0, h, j))/(2*h)\n",
    "            elif method == \"centered\":\n",
    "                if i == j:\n",
    "                    Hess[i, j] = (-f(x0+2*z_i) + 16*f(x0+z_i) - 30*f(x0) +\n",
    "                                  16*f(x0-z_i) - f(x0-2*z_i)) / (12*h**2)\n",
    "                else:\n",
    "                    Hess[i, j] = (f(x0+z_i+z_j) - f(x0 + z_i - z_j) -\n",
    "                                  f(x0 - z_i + z_j) + f(x0-z_i-z_j))/(4*h**2)\n",
    "            elif method == \"gradCentered\":\n",
    "                Hess[i, j] = (Grad(f, x0+z_j, h)[i] - Grad(f, x0-z_j, h)[i] +\n",
    "                              Grad(f, x0+z_i, h)[j] - Grad(f, x0-z_i, h)[j])\\\n",
    "                               / (4 * h)\n",
    "    return Hess"
   ]
  },
  {
   "cell_type": "code",
   "execution_count": 16,
   "metadata": {},
   "outputs": [],
   "source": [
    "def Grad(f, x0, h=1e-6, i=-1):\n",
    "    \"\"\"\n",
    "    Función que calcula el Grad de una función en un punto\n",
    "    \"\"\"\n",
    "    n = len(x0)\n",
    "    if i in range(n):\n",
    "        z = np.zeros(n)\n",
    "        z[i] = h/2\n",
    "        Grad = (f(x0 + z) - f(x0 - z))/h\n",
    "    else:\n",
    "        Grad = np.zeros(n)\n",
    "        for j in range(n):\n",
    "            z = np.zeros(n)\n",
    "            z[j] = h/2\n",
    "            Grad[j] = (f(x0 + z) - f(x0 - z))/h\n",
    "    return np.array(Grad)"
   ]
  },
  {
   "cell_type": "code",
   "execution_count": 22,
   "metadata": {},
   "outputs": [],
   "source": [
    "def gradiente_conjugado(x0, A, b):\n",
    "    xk = x0\n",
    "    b = np.matrix(b).T\n",
    "    rk = np.dot(A, x0) - b\n",
    "    pk = -rk\n",
    "    while not (rk.T * rk ==  0):\n",
    "        alphak = rk.T * rk / (pk.T * A * pk)\n",
    "        alphak= alphak[0,0]\n",
    "        xk_1 = xk + alphak * pk\n",
    "        rk_1 =  rk + alphak * A * pk\n",
    "        betak_1 = (rk_1.T * rk_1) / (rk.T * rk)\n",
    "        betak_1 = betak_1[0,0]\n",
    "        pk_1 = -rk_1 + betak_1 * pk\n",
    "        xk, rk, pk = xk_1, rk_1, pk_1\n",
    "    return xk"
   ]
  },
  {
   "cell_type": "code",
   "execution_count": 28,
   "metadata": {},
   "outputs": [],
   "source": [
    "def genera_alpha(f, x0, pk, c1=1e-4, c2 = 0.5, tol=1e-5):\n",
    "    \"\"\"\n",
    "    Backtracking LS i.e. Algoritmo que encuentra una\n",
    "    alpha que cumpla condiciones de wolfe.\n",
    "    \"\"\"\n",
    "    alpha, rho = 1, 3/4\n",
    "    Gkpk = Grad(f, x0).dot(pk)\n",
    "    while f(x0 + alpha*pk) > f(x0) + c1*alpha*Gkpk:\n",
    "        alpha *= rho\n",
    "    return alpha"
   ]
  },
  {
   "cell_type": "code",
   "execution_count": 29,
   "metadata": {},
   "outputs": [],
   "source": [
    "#PREGUNTAS DE EXAMEN\n",
    "#2.1 \n",
    "def DFP_Hk(yk, sk, Hk):\n",
    "    \"\"\"\n",
    "    Función que calcula La actualización DFP de la matriz Hk\n",
    "    In:\n",
    "      yk: Vector n\n",
    "      sk: Vector n\n",
    "      Hk: Matriz nxn\n",
    "    Out:\n",
    "      Hk+1: Matriz nxn\n",
    "    \"\"\"\n",
    "    Hk1 = Hk - (np.dot(Hk,np.dot(yk,np.dot(yk.T,Hk))))/(np.dot(yk.T,np.dot(Hk,yk))) + (np.dot(sk,sk.T))/(np.dot(yk.T,sk))\n",
    "    return Hk1\n",
    "\n",
    "#La función estaba mal implementada ya que no tenía los productos punto correspondientes"
   ]
  },
  {
   "cell_type": "code",
   "execution_count": 25,
   "metadata": {},
   "outputs": [],
   "source": [
    "x0 = [(-1)**i*10 for i in range(10) ]"
   ]
  },
  {
   "cell_type": "code",
   "execution_count": 26,
   "metadata": {},
   "outputs": [],
   "source": [
    "def BFGS_DFP(f, x0, tol, H0, maxiter=10000):\n",
    "    k = 0\n",
    "    Gk = Grad(f, x0)\n",
    "    Hk = H0\n",
    "    xk = np.array(x0)\n",
    "    xk1 = np.array(x0)\n",
    "    sk = np.array(100)\n",
    "    while (LA.norm(Gk) > tol and LA.norm(sk) > tol and k <= maxiter):\n",
    "        pk = - Hk.dot(Gk)\n",
    "        alphak = genera_alpha(f, xk, pk)\n",
    "        xk1 = xk + alphak * pk\n",
    "        sk = xk1 - xk\n",
    "        Gk1 = Grad(f, xk1)\n",
    "        yk = Gk1 - Gk\n",
    "        Hk = DFP_Hk(yk, sk, Hk) #<-Modificación al algoritmo de clase\n",
    "        k += 1\n",
    "        xk = xk1\n",
    "        Gk = Gk1\n",
    "    return xk1, k"
   ]
  },
  {
   "cell_type": "code",
   "execution_count": 30,
   "metadata": {},
   "outputs": [
    {
     "name": "stdout",
     "output_type": "stream",
     "text": [
      "Óptimo [-2.13734496e-04  5.45731110e-05 -2.13734496e-04  5.45731110e-05\n",
      " -2.13734496e-04  5.45731110e-05 -4.32045099e-05  2.25102774e-04\n",
      "  1.36397880e-05  2.81946102e-04], Iteraciones 95\n"
     ]
    }
   ],
   "source": [
    "B0=Hess(cuadrados,x0)\n",
    "H0=LA.inv(B0)\n",
    "\n",
    "x,k=BFGS_DFP(cuadrados,x0,1e-15,H0)\n",
    "print(f'Óptimo {x}, Iteraciones {k}' )"
   ]
  },
  {
   "cell_type": "code",
   "execution_count": 21,
   "metadata": {},
   "outputs": [],
   "source": [
    "#2.2\n",
    "random.seed(165860) \n",
    "Diag_A = [random.randint(1,1000) for x in range(1000000)]\n",
    "b = [random.randint(1,1000) for x in range(1000000)]"
   ]
  },
  {
   "cell_type": "code",
   "execution_count": null,
   "metadata": {},
   "outputs": [],
   "source": []
  }
 ],
 "metadata": {
  "kernelspec": {
   "display_name": "Python 3",
   "language": "python",
   "name": "python3"
  },
  "language_info": {
   "codemirror_mode": {
    "name": "ipython",
    "version": 3
   },
   "file_extension": ".py",
   "mimetype": "text/x-python",
   "name": "python",
   "nbconvert_exporter": "python",
   "pygments_lexer": "ipython3",
   "version": "3.8.3"
  }
 },
 "nbformat": 4,
 "nbformat_minor": 4
}
