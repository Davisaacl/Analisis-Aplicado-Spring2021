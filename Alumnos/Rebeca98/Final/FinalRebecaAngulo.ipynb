{
 "cells": [
  {
   "cell_type": "code",
   "execution_count": 1,
   "id": "4ae19bb2",
   "metadata": {},
   "outputs": [],
   "source": [
    "import numpy as np\n",
    "\n",
    "def Grad(f, x0, h=1e-6, i=-1):\n",
    "    \"\"\"\n",
    "    Función que calcula el Grad de una función en un punto\n",
    "    \"\"\"\n",
    "    n = len(x0)\n",
    "    if i in range(n):\n",
    "        z = np.zeros(n)\n",
    "        z[i] = h/2\n",
    "        Grad = (f(x0 + z) - f(x0 - z))/h\n",
    "    else:\n",
    "        Grad = np.zeros(n)\n",
    "        for j in range(n):\n",
    "            z = np.zeros(n)\n",
    "            z[j] = h/2\n",
    "            Grad[j] = (f(x0 + z) - f(x0 - z))/h\n",
    "    return np.array(Grad)\n",
    "\n",
    "\n",
    "def Hess(f, x0, h=1e-4, method=\"basic\"):\n",
    "    \"\"\"\n",
    "    Función que calcula la Hessiana  de una función en un punto.\n",
    "    f: función sobre la cual queremos calcular la hessiana.\n",
    "    x0: Punto sobre el cual queremos hacer el cálculo\n",
    "    h: nivel de precisión para hacer el cálculo\n",
    "    method: Método por el cual se quiere hacer puede ser:\n",
    "             'basic', 'grad', 'centered', 'gradCentered'\n",
    "    \"\"\"\n",
    "    n = len(x0)\n",
    "    Hess = np.zeros((n, n))\n",
    "    for i in range(n):\n",
    "        for j in range(n):\n",
    "            z_i = np.zeros(n)\n",
    "            z_i[i] = h\n",
    "            z_j = np.zeros(n)\n",
    "            z_j[j] = h\n",
    "            if method == \"basic\":\n",
    "                Hess[i, j] = (f(x0 + z_j + z_i) - f(x0 + z_i) -\n",
    "                              f(x0+z_j) + f(x0)) / (h**2)\n",
    "            elif method == \"grad\":\n",
    "                Hess[i, j] = (Grad(f, x0+z_j, h, i) - Grad(f, x0, h, i) +\n",
    "                              Grad(f, x0+z_i, h, j) - Grad(f, x0, h, j))/(2*h)\n",
    "            elif method == \"centered\":\n",
    "                if i == j:\n",
    "                    Hess[i, j] = (-f(x0+2*z_i) + 16*f(x0+z_i) - 30*f(x0) +\n",
    "                                  16*f(x0-z_i) - f(x0-2*z_i)) / (12*h**2)\n",
    "                else:\n",
    "                    Hess[i, j] = (f(x0+z_i+z_j) - f(x0 + z_i - z_j) -\n",
    "                                  f(x0 - z_i + z_j) + f(x0-z_i-z_j))/(4*h**2)\n",
    "            elif method == \"gradCentered\":\n",
    "                Hess[i, j] = (Grad(f, x0+z_j, h)[i] - Grad(f, x0-z_j, h)[i] +\n",
    "                              Grad(f, x0+z_i, h)[j] - Grad(f, x0-z_i, h)[j])\\\n",
    "                               / (4 * h)\n",
    "    return Hess\n",
    "\n"
   ]
  },
  {
   "cell_type": "code",
   "execution_count": 2,
   "id": "f8818292",
   "metadata": {},
   "outputs": [],
   "source": [
    "def condiciones_wolfe(f, x0, alpha, pk, c1=1e-4, c2=1e-2, tol=1e-5):\n",
    "    \"\"\"\n",
    "    Función que evalúa las condiciones de wolfe para una alpha.\n",
    "    f:  función que optimizamos\n",
    "    x0: punto anterior un numpy.array\n",
    "    alpha: valor que cumplirá condiciones de wolfe.\n",
    "    pk: dirección de decenso un numpy.array\n",
    "    \"\"\"\n",
    "    def grad(alpha): return Grad(f, x0+alpha*pk, tol)\n",
    "    def phi(alpha): return f(x0 + alpha*pk)  # Ojo que phi(0) = f(x0)\n",
    "    def linea(alpha): return phi(0) + c1 * alpha * np.dot(g_x0, pk)\n",
    "    g_x0 = grad(0)  # grad(0) = Grad(f,x0)\n",
    "    cond_1 = linea(alpha) - phi(alpha) >= 0\n",
    "    cond_2 = np.dot(grad(alpha), pk) - c2 * np.dot(g_x0, pk) >= 0\n",
    "    return cond_1 and cond_2\n",
    "\n",
    "def genera_alpha(f, x0, pk, c1=1e-4, c2 = 0.5, tol=1e-5):\n",
    "    \"\"\"\n",
    "    Backtracking LS i.e. Algoritmo que encuentra una\n",
    "    alpha que cumpla condiciones de wolfe.\n",
    "    \"\"\"\n",
    "    alpha, rho = 1, 3/4\n",
    "    Gkpk = Grad(f, x0).dot(pk)\n",
    "    while f(x0 + alpha*pk) > f(x0) + c1*alpha*Gkpk:\n",
    "        alpha *= rho\n",
    "    return alpha"
   ]
  },
  {
   "cell_type": "code",
   "execution_count": 3,
   "id": "c6a57c93",
   "metadata": {},
   "outputs": [],
   "source": [
    "def modificacion_hessiana(Hessiana, lam=0.5):\n",
    "    while not is_pos_def(Hessiana):\n",
    "        Hessiana = Hessiana + lam*np.eye(len(Hessiana))\n",
    "    return Hessiana"
   ]
  },
  {
   "cell_type": "code",
   "execution_count": 4,
   "id": "e1c7f100",
   "metadata": {},
   "outputs": [
    {
     "name": "stdout",
     "output_type": "stream",
     "text": [
      "[array([1., 0., 0., 0., 0.]), array([0., 1., 0., 0., 0.]), array([0., 0., 1., 0., 0.]), array([0., 0., 0., 1., 0.]), array([0., 0., 0., 0., 1.])]\n"
     ]
    },
    {
     "data": {
      "text/plain": [
       "array([1., 0., 0., 0., 0.])"
      ]
     },
     "execution_count": 4,
     "metadata": {},
     "output_type": "execute_result"
    }
   ],
   "source": [
    "def generar_conjunto_canonico(n):\n",
    "    A = np.array(np.eye(n))\n",
    "    return [A[i] for i in range(n)]\n",
    "\n",
    "n=5\n",
    "A = np.matrix(np.eye(n)).T\n",
    "b = np.zeros(n)+1\n",
    "cc = generar_conjunto_canonico(n)\n",
    "print(cc)\n",
    "cc[0]"
   ]
  },
  {
   "cell_type": "markdown",
   "id": "4b9f6e3d",
   "metadata": {},
   "source": [
    "## Gradiente Conjugado (40 puntos)"
   ]
  },
  {
   "cell_type": "code",
   "execution_count": 5,
   "id": "cf2ce2ad",
   "metadata": {},
   "outputs": [
    {
     "name": "stdout",
     "output_type": "stream",
     "text": [
      "[0. 0. 0. 0. 1.]\n"
     ]
    }
   ],
   "source": [
    "def direcciones_conjugadas(x0, cc, A, b):\n",
    "    xk = x0\n",
    "    for k in range(len(x0)):\n",
    "        rk  = np.array(A.dot(xk)-b) \n",
    "        alpha = np.dot(-rk,cc[k])/(np.dot(cc[k],A.dot(cc[k])))\n",
    "        xk_1 = xk + alpha*cc[k] \n",
    "    return xk_1\n",
    "\n",
    "n=5\n",
    "A = np.array(np.eye(n)) # hacerlo con matriz rala\n",
    "b = np.zeros(n)+1\n",
    "cc = generar_conjunto_canonico(n)\n",
    "x0 = np.array(np.zeros(n))\n",
    "direcciones_conjugadas(x0, cc, A, b)\n",
    "print(direcciones_conjugadas(x0, cc, A, b))\n",
    "#print(direcciones_conjugadas(x0,cc,A,b))"
   ]
  },
  {
   "cell_type": "markdown",
   "id": "48005579",
   "metadata": {},
   "source": [
    "## pruebas con libreria python"
   ]
  },
  {
   "cell_type": "code",
   "execution_count": 23,
   "id": "33e97641",
   "metadata": {},
   "outputs": [],
   "source": [
    "from scipy.sparse import csr_matrix\n",
    "from scipy.sparse.linalg import spsolve"
   ]
  },
  {
   "cell_type": "code",
   "execution_count": 24,
   "id": "f7581d0a",
   "metadata": {},
   "outputs": [
    {
     "name": "stdout",
     "output_type": "stream",
     "text": [
      "  (0, 0)\t1.0\n",
      "  (1, 1)\t1.0\n",
      "  (2, 2)\t1.0\n",
      "  (3, 3)\t1.0\n",
      "  (4, 4)\t1.0\n",
      "[0. 0. 0. 0. 1.]\n"
     ]
    }
   ],
   "source": [
    "def direcciones_conjugadas_ralas(x0, cc, A, b):\n",
    "    A_sparce = csr_matrix(A)\n",
    "    xk = x0\n",
    "    for k in range(len(x0)):\n",
    "        Axk = A_sparce.dot(xk)\n",
    "        rk  = Axk-b \n",
    "        alpha = np.dot(-rk,cc[k])/(np.dot(cc[k],A_sparce.dot(cc[k]))) \n",
    "        xk_1 = xk + alpha*cc[k] \n",
    "    return xk_1\n",
    "\n",
    "n=5\n",
    "A = np.array(np.eye(n)) \n",
    "b = np.zeros(n)+1\n",
    "cc = generar_conjunto_canonico(n)\n",
    "x0 = np.array(np.zeros(n))\n",
    "print(sparse.csr_matrix(A))\n",
    "direcciones_conjugadas(x0, cc, A, b)\n",
    "print(direcciones_conjugadas(x0, cc, A, b))"
   ]
  },
  {
   "cell_type": "code",
   "execution_count": 8,
   "id": "56f12f9f",
   "metadata": {},
   "outputs": [
    {
     "name": "stdout",
     "output_type": "stream",
     "text": [
      "[[1.]\n",
      " [1.]\n",
      " [1.]\n",
      " [1.]\n",
      " [1.]\n",
      " [1.]\n",
      " [1.]\n",
      " [1.]\n",
      " [1.]\n",
      " [1.]\n",
      " [1.]\n",
      " [1.]\n",
      " [1.]\n",
      " [1.]\n",
      " [1.]]\n"
     ]
    }
   ],
   "source": [
    "def gradiente_conjugado(x0, A, b): #Algoritmo 5.2\n",
    "    xk = x0\n",
    "    b = np.matrix(b).T\n",
    "    rk = np.dot(A, x0) - b\n",
    "    pk = -rk\n",
    "    while not (rk.T * rk ==  0):\n",
    "        alphak = rk.T * rk / (pk.T * A * pk)\n",
    "        alphak= alphak[0,0]\n",
    "        xk_1 = xk + alphak * pk\n",
    "        rk_1 =  rk + alphak * A * pk\n",
    "        betak_1 = (rk_1.T * rk_1) / (rk.T * rk)\n",
    "        betak_1 = betak_1[0,0]\n",
    "        pk_1 = -rk_1 + betak_1 * pk\n",
    "        xk, rk, pk = xk_1, rk_1, pk_1\n",
    "    return xk\n",
    "\n",
    "def gradiente_conjugado_precond(x0, A, b, M):\n",
    "    xk = x0\n",
    "    b = np.matrix(b).T\n",
    "    rk = np.dot(A, x0) - b\n",
    "    yk = np.linalg.solve(M, rk)\n",
    "    pk = -yk \n",
    "    while not (rk.T * rk ==  0):\n",
    "        alphak = rk.T * yk / (pk.T * A * pk)\n",
    "        alphak= alphak[0,0]\n",
    "        xk_1 = xk + alphak * pk\n",
    "        rk_1 =  rk + alphak * A * pk\n",
    "        yk_1 = np.linalg.solve(M, rk_1)\n",
    "        betak_1 = (rk_1.T * rk_1) / (rk.T * rk)\n",
    "        betak_1 = betak_1[0,0]\n",
    "        pk_1 = -yk_1 + betak_1 * pk\n",
    "        xk, rk, pk, yk  = xk_1, rk_1, pk_1, yk_1\n",
    "    return xk\n",
    "\n",
    "n=15\n",
    "A = np.matrix(np.eye(n)).T\n",
    "b = np.zeros(n)+1\n",
    "x0 = np.matrix(np.zeros(n)).T\n",
    "print(gradiente_conjugado_precond(x0, A, b, A))"
   ]
  },
  {
   "cell_type": "code",
   "execution_count": 9,
   "id": "9f31905a",
   "metadata": {},
   "outputs": [
    {
     "name": "stdout",
     "output_type": "stream",
     "text": [
      "Original Matrix: \n",
      " [[1 0 0 1 0 0]\n",
      " [0 0 2 0 0 1]\n",
      " [0 0 2 0 0 1]\n",
      " [0 0 0 2 0 0]]\n",
      "Sparse Matrix: \n",
      "   (0, 0)\t1\n",
      "  (0, 3)\t1\n",
      "  (1, 2)\t2\n",
      "  (1, 5)\t1\n",
      "  (2, 2)\t2\n",
      "  (2, 5)\t1\n",
      "  (3, 3)\t2\n",
      "shape de S (4, 6)\n",
      "Original Matrix otra vez: \n",
      " [[1 0 0 1 0 0]\n",
      " [0 0 2 0 0 1]\n",
      " [0 0 2 0 0 1]\n",
      " [0 0 0 2 0 0]]\n"
     ]
    }
   ],
   "source": [
    "#para darme una idea\n",
    "\n",
    "from scipy import sparse\n",
    "A = np.array([[1, 0, 0, 1, 0, 0], [0, 0, 2, 0, 0, 1],[0, 0, 2, 0, 0, 1], [0, 0, 0, 2, 0, 0]])\n",
    "print(\"Original Matrix: \\n\", A)\n",
    "S = sparse.csr_matrix(A)\n",
    "print(\"Sparse Matrix: \\n\",S)\n",
    "print(\"shape de S\",S.shape)\n",
    "print(\"Original Matrix otra vez: \\n\",S.todense())"
   ]
  },
  {
   "cell_type": "code",
   "execution_count": 10,
   "id": "c95d9308",
   "metadata": {},
   "outputs": [
    {
     "name": "stdout",
     "output_type": "stream",
     "text": [
      "1000000\n"
     ]
    }
   ],
   "source": [
    "import random\n",
    "random.seed(175311) #  Cambien a su propia clave\n",
    "Diag_A = [random.randint(1,1000) for x in range(1000000)] #no hay ceros\n",
    "print(len(Diag_A))\n",
    "no_cero = len(Diag_A)\n",
    "b = [random.randint(1,1000) for x in range(1000000)] #lista"
   ]
  },
  {
   "cell_type": "code",
   "execution_count": 11,
   "id": "301062e8",
   "metadata": {},
   "outputs": [],
   "source": [
    "#en este caso la matriz rala es una matriz diagonal cuyas entradas en la\n",
    "#diagonal son distintas de cero\n",
    "Diagonal = np.diag(Diag_A) # esta es la matriz rala\n",
    "#print(Diagonal.shape)matrix de 1000000x1000000(por eso se trabó mi compu >.<)"
   ]
  },
  {
   "cell_type": "code",
   "execution_count": 19,
   "id": "d2aaa1fc",
   "metadata": {},
   "outputs": [
    {
     "name": "stdout",
     "output_type": "stream",
     "text": [
      "0\n"
     ]
    }
   ],
   "source": [
    "#guardamos las entradas distintas de cero en una matriz \n",
    "rows, cols = (no_cero,1 )\n",
    "compacta= [[0 for i in range(cols)] for j in range(rows)] #una lista como b\n",
    "print(compacta[0][0])"
   ]
  },
  {
   "cell_type": "code",
   "execution_count": 20,
   "id": "de39ac63",
   "metadata": {},
   "outputs": [],
   "source": [
    "def matrix_compacta(matriz_rala):\n",
    "    \"\"\"Input: matriz rala (diagonal con entradas distintas de cero) \n",
    "        Output: lista con las entradas distintas de cero\n",
    "        en este caso son 10000 entradas distintas de cero\n",
    "    \"\"\"\n",
    "    rows, cols = (no_cero,1) \n",
    "    compacta  = [[0 for i in range(1)] for j in range(rows)] #inicializar\n",
    "    k = 0\n",
    "    for i in range(1000000):#renglon\n",
    "        for j in range(1000000):#columna\n",
    "            if (matriz_rala[i][j] != 0):\n",
    "                compacta[k][0] = matriz_rala[i][j]#guardamos ese elemento\n",
    "                k = k+1\n",
    "    return compacta"
   ]
  },
  {
   "cell_type": "code",
   "execution_count": 21,
   "id": "296c8c22",
   "metadata": {},
   "outputs": [],
   "source": [
    "#definimos operaciones con estas matrices compactas\n",
    "def dot_product_rala(matriz_rala,b):\n",
    "    \"\"\" Input: \n",
    "    matriz_rala:matriz rala (diagnoal jeje)\n",
    "    b: vector \"\"\"\n",
    "    compacta = np.array(matrix_compacta(matriz_rala))\n",
    "    arr = np.array(b)\n",
    "    return np.dot(compacta,arr)"
   ]
  },
  {
   "cell_type": "code",
   "execution_count": 25,
   "id": "e63da3e1",
   "metadata": {},
   "outputs": [
    {
     "ename": "KeyboardInterrupt",
     "evalue": "",
     "output_type": "error",
     "traceback": [
      "\u001b[0;31m---------------------------------------------------------------------------\u001b[0m",
      "\u001b[0;31mKeyboardInterrupt\u001b[0m                         Traceback (most recent call last)",
      "\u001b[0;32m<ipython-input-25-4b836218ff3e>\u001b[0m in \u001b[0;36m<module>\u001b[0;34m\u001b[0m\n\u001b[0;32m----> 1\u001b[0;31m \u001b[0mdot_product_rala\u001b[0m\u001b[0;34m(\u001b[0m\u001b[0mDiagonal\u001b[0m\u001b[0;34m,\u001b[0m\u001b[0mb\u001b[0m\u001b[0;34m)\u001b[0m\u001b[0;34m\u001b[0m\u001b[0;34m\u001b[0m\u001b[0m\n\u001b[0m",
      "\u001b[0;32m<ipython-input-21-1ac54783bd20>\u001b[0m in \u001b[0;36mdot_product_rala\u001b[0;34m(matriz_rala, b)\u001b[0m\n\u001b[1;32m      4\u001b[0m     \u001b[0mmatriz_rala\u001b[0m\u001b[0;34m:\u001b[0m\u001b[0mmatriz\u001b[0m \u001b[0mrala\u001b[0m \u001b[0;34m(\u001b[0m\u001b[0mdiagnoal\u001b[0m \u001b[0mjeje\u001b[0m\u001b[0;34m)\u001b[0m\u001b[0;34m\u001b[0m\u001b[0;34m\u001b[0m\u001b[0m\n\u001b[1;32m      5\u001b[0m     b: vector \"\"\"\n\u001b[0;32m----> 6\u001b[0;31m     \u001b[0mcompacta\u001b[0m \u001b[0;34m=\u001b[0m \u001b[0mnp\u001b[0m\u001b[0;34m.\u001b[0m\u001b[0marray\u001b[0m\u001b[0;34m(\u001b[0m\u001b[0mmatrix_compacta\u001b[0m\u001b[0;34m(\u001b[0m\u001b[0mmatriz_rala\u001b[0m\u001b[0;34m)\u001b[0m\u001b[0;34m)\u001b[0m\u001b[0;34m\u001b[0m\u001b[0;34m\u001b[0m\u001b[0m\n\u001b[0m\u001b[1;32m      7\u001b[0m     \u001b[0marr\u001b[0m \u001b[0;34m=\u001b[0m \u001b[0mnp\u001b[0m\u001b[0;34m.\u001b[0m\u001b[0marray\u001b[0m\u001b[0;34m(\u001b[0m\u001b[0mb\u001b[0m\u001b[0;34m)\u001b[0m\u001b[0;34m\u001b[0m\u001b[0;34m\u001b[0m\u001b[0m\n\u001b[1;32m      8\u001b[0m     \u001b[0;32mreturn\u001b[0m \u001b[0mnp\u001b[0m\u001b[0;34m.\u001b[0m\u001b[0mdot\u001b[0m\u001b[0;34m(\u001b[0m\u001b[0mcompacta\u001b[0m\u001b[0;34m,\u001b[0m\u001b[0marr\u001b[0m\u001b[0;34m)\u001b[0m\u001b[0;34m\u001b[0m\u001b[0;34m\u001b[0m\u001b[0m\n",
      "\u001b[0;32m<ipython-input-20-3ffd29145787>\u001b[0m in \u001b[0;36mmatrix_compacta\u001b[0;34m(matriz_rala)\u001b[0m\n\u001b[1;32m      9\u001b[0m     \u001b[0;32mfor\u001b[0m \u001b[0mi\u001b[0m \u001b[0;32min\u001b[0m \u001b[0mrange\u001b[0m\u001b[0;34m(\u001b[0m\u001b[0;36m1000000\u001b[0m\u001b[0;34m)\u001b[0m\u001b[0;34m:\u001b[0m\u001b[0;31m#renglon\u001b[0m\u001b[0;34m\u001b[0m\u001b[0;34m\u001b[0m\u001b[0m\n\u001b[1;32m     10\u001b[0m         \u001b[0;32mfor\u001b[0m \u001b[0mj\u001b[0m \u001b[0;32min\u001b[0m \u001b[0mrange\u001b[0m\u001b[0;34m(\u001b[0m\u001b[0;36m1000000\u001b[0m\u001b[0;34m)\u001b[0m\u001b[0;34m:\u001b[0m\u001b[0;31m#columna\u001b[0m\u001b[0;34m\u001b[0m\u001b[0;34m\u001b[0m\u001b[0m\n\u001b[0;32m---> 11\u001b[0;31m             \u001b[0;32mif\u001b[0m \u001b[0;34m(\u001b[0m\u001b[0mmatriz_rala\u001b[0m\u001b[0;34m[\u001b[0m\u001b[0mi\u001b[0m\u001b[0;34m]\u001b[0m\u001b[0;34m[\u001b[0m\u001b[0mj\u001b[0m\u001b[0;34m]\u001b[0m \u001b[0;34m!=\u001b[0m \u001b[0;36m0\u001b[0m\u001b[0;34m)\u001b[0m\u001b[0;34m:\u001b[0m\u001b[0;34m\u001b[0m\u001b[0;34m\u001b[0m\u001b[0m\n\u001b[0m\u001b[1;32m     12\u001b[0m                 \u001b[0mcompacta\u001b[0m\u001b[0;34m[\u001b[0m\u001b[0mk\u001b[0m\u001b[0;34m]\u001b[0m\u001b[0;34m[\u001b[0m\u001b[0;36m0\u001b[0m\u001b[0;34m]\u001b[0m \u001b[0;34m=\u001b[0m \u001b[0mmatriz_rala\u001b[0m\u001b[0;34m[\u001b[0m\u001b[0mi\u001b[0m\u001b[0;34m]\u001b[0m\u001b[0;34m[\u001b[0m\u001b[0mj\u001b[0m\u001b[0;34m]\u001b[0m\u001b[0;31m#guardamos ese elemento\u001b[0m\u001b[0;34m\u001b[0m\u001b[0;34m\u001b[0m\u001b[0m\n\u001b[1;32m     13\u001b[0m                 \u001b[0mk\u001b[0m \u001b[0;34m=\u001b[0m \u001b[0mk\u001b[0m\u001b[0;34m+\u001b[0m\u001b[0;36m1\u001b[0m\u001b[0;34m\u001b[0m\u001b[0;34m\u001b[0m\u001b[0m\n",
      "\u001b[0;31mKeyboardInterrupt\u001b[0m: "
     ]
    }
   ],
   "source": [
    "dot_product_rala(Diagonal,b) #lo interrumpi"
   ]
  },
  {
   "cell_type": "code",
   "execution_count": null,
   "id": "6e784b5e",
   "metadata": {},
   "outputs": [],
   "source": [
    "def gradiente_conjugado_precond_mirala(x0, Diagonal, b, M):\n",
    "    \"\"\"\n",
    "    x0: vector\n",
    "    Diagnoal = matriz Rala \n",
    "    b = lista \n",
    "    M matriz\n",
    "    \"\"\"\n",
    "    xk = x0\n",
    "    \n",
    "    b = np.array(b)\n",
    "    rk = dot_product_rala(Diagonal,b) - b\n",
    "    yk = np.linalg.solve(M, rk)\n",
    "    pk = -yk \n",
    "    while not (rk.T * rk ==  0):\n",
    "        alphak = rk.T * yk / (pk.T * A * pk)\n",
    "        alphak= alphak[0,0]\n",
    "        xk_1 = xk + alphak * pk\n",
    "        rk_1 =  rk + alphak * dot_product_rala(Diagonal,(dot_product_rala(Diagonal,pk)))\n",
    "        yk_1 = np.linalg.solve(M, rk_1)\n",
    "        betak_1 = (rk_1.T * rk_1) / (rk.T * rk)\n",
    "        betak_1 = betak_1[0,0]\n",
    "        pk_1 = -yk_1 + betak_1 * pk\n",
    "        xk, rk, pk, yk  = xk_1, rk_1, pk_1, yk_1\n",
    "    return xk\n",
    "\n",
    "x0 = np.matrix(np.zeros(n)).T\n",
    "M = np.matrix(np.eye(n)).T\n",
    "print(gradiente_conjugado_precond(x0, Diagonal, b, M))\n"
   ]
  },
  {
   "cell_type": "markdown",
   "id": "fa978734",
   "metadata": {},
   "source": [
    "## DFP (20 puntos)"
   ]
  },
  {
   "cell_type": "code",
   "execution_count": 48,
   "id": "0c511e02",
   "metadata": {},
   "outputs": [],
   "source": [
    "import numpy as np\n",
    "from numpy import linalg as LA\n",
    "\n",
    "def DFP_Bk(yk, sk, Bk):\n",
    "    \"\"\"\n",
    "    Función que calcula La actualización DFP de la matriz Bk\n",
    "    In:\n",
    "      yk: Vector n\n",
    "      sk: Vector n\n",
    "      Bk: Matriz nxn\n",
    "    Out:\n",
    "      Bk+1: Matriz nxn\n",
    "    \"\"\"\n",
    "    n = len(yk)\n",
    "    rhok = 1 / (yk.T*sk)\n",
    "    Vk = (np.eye(n) - rhok * yk*sk.T)\n",
    "    Bk1 = Vk * Bk * Vk.T + rhok * yk * yk.T\n",
    "    return Bk1\n",
    "\n",
    "\n",
    "def DFP_Hk(yk, sk, Hk):\n",
    "    \"\"\"\n",
    "    Función que calcula La actualización DFP de la matriz Hk\n",
    "    In:\n",
    "      yk: Vector n\n",
    "      sk: Vector n\n",
    "      Hk: Matriz nxn\n",
    "    Out:\n",
    "      Hk+1: Matriz nxn\n",
    "    \"\"\"\n",
    "    yk = np.array([yk]).T\n",
    "    sk = np.array([sk]).T\n",
    "    Hk1 = Hk - (Hk * yk.dot(yk.T) * Hk)/(yk.T * Hk * yk) + sk.dot(sk.T)/yk.T.dot(sk)\n",
    "    return Hk1\n",
    "\n",
    "\n",
    "def BFGS_Hk(yk, sk, Hk):\n",
    "    \"\"\"\n",
    "    Función que calcula La actualización BFGS de la matriz Hk\n",
    "    In:\n",
    "      yk: Vector n\n",
    "      sk: Vector n\n",
    "      Hk: Matriz nxn\n",
    "    Out:\n",
    "      Hk+1: Matriz nxn\n",
    "    \"\"\"\n",
    "    n = len(yk)\n",
    "    yk = np.array([yk]).T\n",
    "    sk = np.array([sk]).T\n",
    "    rhok = 1 / yk.T.dot(sk)\n",
    "    Vk = (np.eye(n) - rhok * yk.dot(sk.T))\n",
    "    Hk1 = Vk.T * Hk * Vk + rhok * sk.dot(sk.T)\n",
    "    return Hk1\n",
    "\n",
    "\n",
    "def BFGS_Bk(yk, sk, Bk):\n",
    "    \"\"\"\n",
    "    Función que calcula La actualización BFGS de la matriz Bk\n",
    "    In:\n",
    "      yk: Vector n\n",
    "      sk: Vector n\n",
    "      Bk: Matriz nxn\n",
    "    Out:\n",
    "      Bk+1: Matriz nxn\n",
    "    \"\"\"\n",
    "    return Bk - (np.dot(Bk, np.dot(sk, np.dot(sk, Bk)))) / (np.dot(sk, np.dot(Bk, sk))) + np.dot(yk, yk) / np.dot(yk, sk)\n",
    "\n"
   ]
  },
  {
   "cell_type": "code",
   "execution_count": 49,
   "id": "7cafc055",
   "metadata": {},
   "outputs": [
    {
     "name": "stdout",
     "output_type": "stream",
     "text": [
      "Llegué a [-1.42103940e-04 -1.42106305e-04 -1.42103940e-04 -1.42106305e-04\n",
      " -1.42103940e-04 -1.42106305e-04  2.84237581e-05  2.84210696e-05\n",
      "  8.52672934e-05  8.52636356e-05] en 72 iteraciones\n"
     ]
    }
   ],
   "source": [
    "def BFGS(f, x0, tol, H0, maxiter=10000):\n",
    "    k = 0\n",
    "    Gk = Grad(f, x0)\n",
    "    Hk = H0\n",
    "    xk = np.array(x0)\n",
    "    xk1 = np.array(x0)\n",
    "    sk = np.array(100)\n",
    "    while (LA.norm(Gk) > tol and LA.norm(sk) > tol and k <= maxiter):\n",
    "        pk = - Hk.dot(Gk)\n",
    "        alphak = genera_alpha(f, xk, pk)\n",
    "        xk1 = xk + alphak * pk\n",
    "        sk = xk1 - xk\n",
    "        Gk1 = Grad(f, xk1)\n",
    "        yk = Gk1 - Gk\n",
    "        Hk = DFP_Hk(yk, sk, Hk)\n",
    "        k += 1\n",
    "        xk = xk1\n",
    "        Gk = Gk1\n",
    "    return xk1, k\n",
    "\n",
    "def cuadrados(x):\n",
    "    resultado=0\n",
    "    for i in range(len(x)):\n",
    "        resultado += x[i]**2\n",
    "    return resultado\n",
    "\n",
    "\n",
    "x0 = [(-1)**i*10 for i in range(10) ]\n",
    "B0 = Hess(cuadrados,x0)\n",
    "H0 = LA.inv(B0)\n",
    "x, k = BFGS(cuadrados, x0, 1e-15, H0)\n",
    "print(f'Llegué a {x} en {k} iteraciones')"
   ]
  }
 ],
 "metadata": {
  "kernelspec": {
   "display_name": "Python 3",
   "language": "python",
   "name": "python3"
  },
  "language_info": {
   "codemirror_mode": {
    "name": "ipython",
    "version": 3
   },
   "file_extension": ".py",
   "mimetype": "text/x-python",
   "name": "python",
   "nbconvert_exporter": "python",
   "pygments_lexer": "ipython3",
   "version": "3.8.2"
  }
 },
 "nbformat": 4,
 "nbformat_minor": 5
}
