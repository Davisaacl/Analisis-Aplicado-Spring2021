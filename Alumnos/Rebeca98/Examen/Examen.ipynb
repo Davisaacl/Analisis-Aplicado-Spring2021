{
 "cells": [
  {
   "cell_type": "markdown",
   "metadata": {},
   "source": [
    "La función de Rosenbrok es una función que se usa bastante para poder probar algoritmos de optimización. Lo que tienen que hacer es :\n",
    "\n",
    "- Implementar la función de costo para poderla optimizar.\n",
    "- Usar el algoritmo de Newton para intentar optimizarla.\n",
    "- Usar el algoritmo de búsqueda lineal para optimizarla.\n",
    "- Extra(opcional): Hagan la gráfica de la función para entender por qué es difícil.\n"
   ]
  },
  {
   "cell_type": "markdown",
   "metadata": {},
   "source": [
    "## Función de Rosenbrock\n",
    "$ f(x,y) = (a-x)^2 + b(y-x^2)^2$\n",
    "\n",
    "Nota: en mi caso voy a usar los parametros que sugiere Wikipedia, es decir, a=1 y b=100 para definir la función de costos\n",
    "Nota: tiene un mínimo global en $(a,a^2)$"
   ]
  },
  {
   "cell_type": "code",
   "execution_count": 78,
   "metadata": {},
   "outputs": [],
   "source": [
    "import numpy as np\n",
    "x0 = [x,y]\n",
    "def funcion_costos(x0):\n",
    "    return (1-x0[0])** 2 + (100*(x0[1]-x0[0]**2))**2"
   ]
  },
  {
   "cell_type": "code",
   "execution_count": 79,
   "metadata": {},
   "outputs": [
    {
     "data": {
      "text/plain": [
       "array([2.02509000e+05, 1.85309977e+05, 1.69142532e+05, 1.53969040e+05,\n",
       "       1.39752514e+05, 1.26456605e+05, 1.14045607e+05, 1.02484451e+05,\n",
       "       9.17387079e+04, 8.17745892e+04, 7.25589454e+04, 6.40592667e+04,\n",
       "       5.62436829e+04, 4.90809632e+04, 4.25405168e+04, 3.65923923e+04,\n",
       "       3.12072778e+04, 2.63565010e+04, 2.20120296e+04, 1.81464703e+04,\n",
       "       1.47330700e+04, 1.17457146e+04, 9.15893019e+03, 6.94788204e+03,\n",
       "       5.08837521e+03, 3.55685432e+03, 2.33040360e+03, 1.38674688e+03,\n",
       "       7.04247582e+02, 2.61908756e+02, 3.93730350e+01, 1.69226617e+01,\n",
       "       1.75479480e+02, 4.96604938e+02, 9.62500086e+02, 1.55600558e+03,\n",
       "       2.26060167e+03, 3.06040821e+03, 3.94018468e+03, 4.88533014e+03,\n",
       "       5.88188324e+03, 6.91652227e+03, 7.97656510e+03, 9.04996920e+03,\n",
       "       1.01253317e+04, 1.11918891e+04, 1.22395180e+04, 1.32587340e+04,\n",
       "       1.42406927e+04, 1.51771892e+04, 1.60606582e+04, 1.68841740e+04,\n",
       "       1.76414505e+04, 1.83268412e+04, 1.89353392e+04, 1.94625772e+04,\n",
       "       1.99048275e+04, 2.02590021e+04, 2.05226525e+04, 2.06939698e+04,\n",
       "       2.07717847e+04, 2.07555675e+04, 2.06454282e+04, 2.04421163e+04,\n",
       "       2.01470210e+04, 1.97621710e+04, 1.92902346e+04, 1.87345198e+04,\n",
       "       1.80989741e+04, 1.73881847e+04, 1.66073783e+04, 1.57624214e+04,\n",
       "       1.48598198e+04, 1.39067191e+04, 1.29109045e+04, 1.18808007e+04,\n",
       "       1.08254722e+04, 9.75462292e+03, 8.67859640e+03, 7.60837585e+03,\n",
       "       6.55558404e+03, 5.53248337e+03, 4.55197582e+03, 3.62760299e+03,\n",
       "       2.77354608e+03, 2.00462588e+03, 1.33630279e+03, 7.84676822e+02,\n",
       "       3.66487578e+02, 9.91142705e+01, 5.75712042e-01, 8.95303187e+01,\n",
       "       3.85276109e+02, 9.07750706e+02, 1.67753133e+03, 2.71583482e+03,\n",
       "       4.04451759e+03, 5.68607569e+03, 7.66364475e+03, 1.00010000e+04])"
      ]
     },
     "execution_count": 79,
     "metadata": {},
     "output_type": "execute_result"
    }
   ],
   "source": [
    "x = np.linspace(-2,2,100)\n",
    "y = np.linspace(-0.5,3,100)\n",
    "x0 = [x,y]\n",
    "funcion_costos(x0)"
   ]
  },
  {
   "cell_type": "code",
   "execution_count": 132,
   "metadata": {},
   "outputs": [
    {
     "data": {
      "text/plain": [
       "0"
      ]
     },
     "execution_count": 132,
     "metadata": {},
     "output_type": "execute_result"
    }
   ],
   "source": [
    "#probamos el mínimo global\n",
    "x0 = [1,1]\n",
    "funcion_costos(x0)"
   ]
  },
  {
   "cell_type": "code",
   "execution_count": 133,
   "metadata": {},
   "outputs": [],
   "source": [
    "#codigo de la clase: \n",
    "\n",
    "def Grad(f, x0, h=1e-6, i=-1):\n",
    "    \"\"\"\n",
    "    Función que calcula el Grad de una función en un punto\n",
    "    \"\"\"\n",
    "    n = len(x0)\n",
    "    if i in range(n):\n",
    "        z = np.zeros(n)\n",
    "        z[i] = h/2\n",
    "        Grad = (f(x0 + z) - f(x0 - z))/h\n",
    "    else:\n",
    "        Grad=np.zeros(n)\n",
    "        for j in range(n):\n",
    "            z = np.zeros(n)\n",
    "            z[j] = h/2\n",
    "            Grad[j]= (f(x0 + z) - f(x0 - z))/h\n",
    "    return Grad\n",
    "\n",
    "\n",
    "def Hess(f, x0, h=1e-4, method = \"basic\"):\n",
    "    \"\"\"\n",
    "    Función que calcula la Hessiana  de una función en un punto. \n",
    "    f: función sobre la cual queremos calcular la hessiana.\n",
    "    x0: Punto sobre el cual queremos hacer el cálculo\n",
    "    h: nivel de precisión para hacer el cálculo\n",
    "    method: Método por el cual se quiere hacer puede ser: 'basic', 'grad', 'centered', 'gradCentered'\n",
    "    \"\"\"\n",
    "    n = len(x0)\n",
    "    Hess = np.matrix(np.zeros((n,n)))\n",
    "    for i in range(n):\n",
    "        for j in range(n):\n",
    "            z_i = np.zeros(n)\n",
    "            z_i[i] = h\n",
    "            z_j = np.zeros(n)\n",
    "            z_j[j] = h\n",
    "            if method == \"basic\":\n",
    "                Hess[i,j] = ( f(x0 + z_j +z_i) - f(x0 + z_i ) - f(x0+z_j) +f(x0)) / (h**2)\n",
    "            elif method == \"grad\":\n",
    "                Hess[i,j] = (Grad(f,x0+z_j,h,i) - Grad(f,x0,h,i) + \\\n",
    "                             Grad(f,x0+z_i,h,j) - Grad(f,x0,h,j))/(2*h)\n",
    "            elif method == \"centered\":\n",
    "                if i==j:\n",
    "                    Hess[i,j] = (-f(x0+2*z_i) + 16*f(x0+z_i) - 30*f(x0)+\\\n",
    "                                 16*f(x0-z_i) - f(x0-2*z_i))  / (12*h**2)\n",
    "                else :\n",
    "                    Hess[i,j] = (f(x0+z_i+z_j) - f(x0 + z_i - z_j) - \\\n",
    "                                 f(x0 - z_i + z_j) + f(x0-z_i-z_j))/(4*h**2)\n",
    "            elif method == \"gradCentered\":\n",
    "                    Hess[i,j] = (Grad(f,x0+z_j,h)[i] - Grad(f, x0-z_j,h)[i] + \\\n",
    "                                 Grad(f,x0+z_i,h)[j] - Grad(f,x0-z_i,h)[j])/(4*h)\n",
    "    return Hess"
   ]
  },
  {
   "cell_type": "code",
   "execution_count": 134,
   "metadata": {},
   "outputs": [],
   "source": [
    "def f_o_c(f,x, tol=1e-12):\n",
    "    \"\"\"\n",
    "    Función que calcula las condiciones de primer orden\n",
    "    \"\"\"\n",
    "    grad = np.array(Grad(f,x))\n",
    "    if np.dot(grad, grad) < tol:\n",
    "        return True\n",
    "    else :\n",
    "        return False\n",
    "\n",
    "def s_o_c(f, x0, tol=1e-15):\n",
    "    \"\"\"\n",
    "    Inserten aqui código para condiciones de segundo orden \n",
    "    \"\"\"\n",
    "    hess = Hess(f, x0, tol)\n",
    "    print(np.linalg.eigvals(hess))\n",
    "    if np.all(np.linalg.eigvals(hess) > tol) :\n",
    "        return True\n",
    "    else :\n",
    "        return False\n",
    "\n",
    "\n",
    "def is_min(f, x0, tol=1e-25) :\n",
    "    \"\"\"\n",
    "    Dado una función, la función is_min nos va a regresar True si es un mínimo, \n",
    "    False si no podemos garantizar que es un mínimo\n",
    "    \"\"\"\n",
    "    if f_o_c(f, x0, tol) and s_o_c(f, x0, tol) :\n",
    "        return True\n",
    "    else :\n",
    "        return False"
   ]
  },
  {
   "cell_type": "code",
   "execution_count": 82,
   "metadata": {},
   "outputs": [],
   "source": [
    "def genera_alpha(f, x0, pk, c1=1e-4, tol=1e-5):\n",
    "    \"\"\"\n",
    "    Backtracking LS i.e. Algoritmo que encuentra una alpha que cumpla condiciones de wolfe. \n",
    "    \"\"\"\n",
    "    alpha, rho, c = 1, 4/5, c1\n",
    "    while f(x0 + alpha*pk)>f(x0) + c*alpha*np.dot(Grad(f, x0),pk):\n",
    "        alpha*=rho\n",
    "    return alpha"
   ]
  },
  {
   "cell_type": "code",
   "execution_count": 84,
   "metadata": {},
   "outputs": [],
   "source": [
    "def busqueda_lineal_newton(f,x0):\n",
    "    xk = x0\n",
    "    while not is_min(f,xk,tol=1e-30):\n",
    "        #pk= (-1)*Grad(f,xk)\n",
    "        pk = np.linalg.solve(Hess(f,xk),Grad(f,xk)) # direccion de Newton\n",
    "        xk = xk + pk\n",
    "    return xk"
   ]
  },
  {
   "cell_type": "code",
   "execution_count": null,
   "metadata": {},
   "outputs": [],
   "source": [
    "def busqueda_lineal_newton(f,x0):\n",
    "    xk = x0\n",
    "    while not is_min(f,xk,tol=1e-30):\n",
    "        #pk= (-1)*Grad(f,xk)\n",
    "        pk = np.linalg.solve(Hess(f,xk),Grad(f,xk)) # direccion de Newton\n",
    "        #pk = np.dot((-1)*np.linalg.inv(Hess(f,xk)),Grad(f,xk).T)\n",
    "        alpha_k = genera_alpha(f,x0,pk)\n",
    "        xk = xk + (alpha_k*pk)\n",
    "    return xk"
   ]
  },
  {
   "cell_type": "code",
   "execution_count": 85,
   "metadata": {},
   "outputs": [
    {
     "ename": "KeyboardInterrupt",
     "evalue": "",
     "output_type": "error",
     "traceback": [
      "\u001b[0;31m---------------------------------------------------------------------------\u001b[0m",
      "\u001b[0;31mKeyboardInterrupt\u001b[0m                         Traceback (most recent call last)",
      "\u001b[0;32m<ipython-input-85-ac4f13a83ade>\u001b[0m in \u001b[0;36m<module>\u001b[0;34m\u001b[0m\n\u001b[0;32m----> 1\u001b[0;31m \u001b[0mbusqueda_lineal_newton\u001b[0m\u001b[0;34m(\u001b[0m\u001b[0mfuncion_costos\u001b[0m\u001b[0;34m,\u001b[0m\u001b[0;34m[\u001b[0m\u001b[0;36m0\u001b[0m\u001b[0;34m,\u001b[0m\u001b[0;36m0\u001b[0m\u001b[0;34m]\u001b[0m\u001b[0;34m)\u001b[0m\u001b[0;34m\u001b[0m\u001b[0;34m\u001b[0m\u001b[0m\n\u001b[0m",
      "\u001b[0;32m<ipython-input-84-7a8a95e5375a>\u001b[0m in \u001b[0;36mbusqueda_lineal_newton\u001b[0;34m(f, x0)\u001b[0m\n\u001b[1;32m      4\u001b[0m         \u001b[0;31m#pk= (-1)*Grad(f,xk)\u001b[0m\u001b[0;34m\u001b[0m\u001b[0;34m\u001b[0m\u001b[0;34m\u001b[0m\u001b[0m\n\u001b[1;32m      5\u001b[0m         \u001b[0mpk\u001b[0m \u001b[0;34m=\u001b[0m \u001b[0mnp\u001b[0m\u001b[0;34m.\u001b[0m\u001b[0mlinalg\u001b[0m\u001b[0;34m.\u001b[0m\u001b[0msolve\u001b[0m\u001b[0;34m(\u001b[0m\u001b[0mHess\u001b[0m\u001b[0;34m(\u001b[0m\u001b[0mf\u001b[0m\u001b[0;34m,\u001b[0m\u001b[0mxk\u001b[0m\u001b[0;34m)\u001b[0m\u001b[0;34m,\u001b[0m\u001b[0mGrad\u001b[0m\u001b[0;34m(\u001b[0m\u001b[0mf\u001b[0m\u001b[0;34m,\u001b[0m\u001b[0mxk\u001b[0m\u001b[0;34m)\u001b[0m\u001b[0;34m)\u001b[0m \u001b[0;31m# direccion de Newton\u001b[0m\u001b[0;34m\u001b[0m\u001b[0;34m\u001b[0m\u001b[0m\n\u001b[0;32m----> 6\u001b[0;31m         \u001b[0malpha_k\u001b[0m \u001b[0;34m=\u001b[0m \u001b[0mgenera_alpha\u001b[0m\u001b[0;34m(\u001b[0m\u001b[0mf\u001b[0m\u001b[0;34m,\u001b[0m\u001b[0mx0\u001b[0m\u001b[0;34m,\u001b[0m\u001b[0mpk\u001b[0m\u001b[0;34m)\u001b[0m\u001b[0;34m\u001b[0m\u001b[0;34m\u001b[0m\u001b[0m\n\u001b[0m\u001b[1;32m      7\u001b[0m         \u001b[0mxk\u001b[0m \u001b[0;34m=\u001b[0m \u001b[0mxk\u001b[0m \u001b[0;34m+\u001b[0m \u001b[0;34m(\u001b[0m\u001b[0malpha_k\u001b[0m\u001b[0;34m*\u001b[0m\u001b[0mpk\u001b[0m\u001b[0;34m)\u001b[0m\u001b[0;34m\u001b[0m\u001b[0;34m\u001b[0m\u001b[0m\n\u001b[1;32m      8\u001b[0m     \u001b[0;32mreturn\u001b[0m \u001b[0mxk\u001b[0m\u001b[0;34m\u001b[0m\u001b[0;34m\u001b[0m\u001b[0m\n",
      "\u001b[0;32m<ipython-input-82-dffa87bd7754>\u001b[0m in \u001b[0;36mgenera_alpha\u001b[0;34m(f, x0, pk, c1, tol)\u001b[0m\n\u001b[1;32m      4\u001b[0m     \"\"\"\n\u001b[1;32m      5\u001b[0m     \u001b[0malpha\u001b[0m\u001b[0;34m,\u001b[0m \u001b[0mrho\u001b[0m\u001b[0;34m,\u001b[0m \u001b[0mc\u001b[0m \u001b[0;34m=\u001b[0m \u001b[0;36m1\u001b[0m\u001b[0;34m,\u001b[0m \u001b[0;36m4\u001b[0m\u001b[0;34m/\u001b[0m\u001b[0;36m5\u001b[0m\u001b[0;34m,\u001b[0m \u001b[0mc1\u001b[0m\u001b[0;34m\u001b[0m\u001b[0;34m\u001b[0m\u001b[0m\n\u001b[0;32m----> 6\u001b[0;31m     \u001b[0;32mwhile\u001b[0m \u001b[0mf\u001b[0m\u001b[0;34m(\u001b[0m\u001b[0mx0\u001b[0m \u001b[0;34m+\u001b[0m \u001b[0malpha\u001b[0m\u001b[0;34m*\u001b[0m\u001b[0mpk\u001b[0m\u001b[0;34m)\u001b[0m\u001b[0;34m>\u001b[0m\u001b[0mf\u001b[0m\u001b[0;34m(\u001b[0m\u001b[0mx0\u001b[0m\u001b[0;34m)\u001b[0m \u001b[0;34m+\u001b[0m \u001b[0mc\u001b[0m\u001b[0;34m*\u001b[0m\u001b[0malpha\u001b[0m\u001b[0;34m*\u001b[0m\u001b[0mnp\u001b[0m\u001b[0;34m.\u001b[0m\u001b[0mdot\u001b[0m\u001b[0;34m(\u001b[0m\u001b[0mGrad\u001b[0m\u001b[0;34m(\u001b[0m\u001b[0mf\u001b[0m\u001b[0;34m,\u001b[0m \u001b[0mx0\u001b[0m\u001b[0;34m)\u001b[0m\u001b[0;34m,\u001b[0m\u001b[0mpk\u001b[0m\u001b[0;34m)\u001b[0m\u001b[0;34m:\u001b[0m\u001b[0;34m\u001b[0m\u001b[0;34m\u001b[0m\u001b[0m\n\u001b[0m\u001b[1;32m      7\u001b[0m         \u001b[0malpha\u001b[0m\u001b[0;34m*=\u001b[0m\u001b[0mrho\u001b[0m\u001b[0;34m\u001b[0m\u001b[0;34m\u001b[0m\u001b[0m\n\u001b[1;32m      8\u001b[0m     \u001b[0;32mreturn\u001b[0m \u001b[0malpha\u001b[0m\u001b[0;34m\u001b[0m\u001b[0;34m\u001b[0m\u001b[0m\n",
      "\u001b[0;32m<ipython-input-80-eed0d2c854f4>\u001b[0m in \u001b[0;36mGrad\u001b[0;34m(f, x0, h, i)\u001b[0m\n\u001b[1;32m     13\u001b[0m             \u001b[0mz\u001b[0m \u001b[0;34m=\u001b[0m \u001b[0mnp\u001b[0m\u001b[0;34m.\u001b[0m\u001b[0mzeros\u001b[0m\u001b[0;34m(\u001b[0m\u001b[0mn\u001b[0m\u001b[0;34m)\u001b[0m\u001b[0;34m\u001b[0m\u001b[0;34m\u001b[0m\u001b[0m\n\u001b[1;32m     14\u001b[0m             \u001b[0mz\u001b[0m\u001b[0;34m[\u001b[0m\u001b[0mj\u001b[0m\u001b[0;34m]\u001b[0m \u001b[0;34m=\u001b[0m \u001b[0mh\u001b[0m\u001b[0;34m/\u001b[0m\u001b[0;36m2\u001b[0m\u001b[0;34m\u001b[0m\u001b[0;34m\u001b[0m\u001b[0m\n\u001b[0;32m---> 15\u001b[0;31m             \u001b[0mGrad\u001b[0m\u001b[0;34m[\u001b[0m\u001b[0mj\u001b[0m\u001b[0;34m]\u001b[0m\u001b[0;34m=\u001b[0m \u001b[0;34m(\u001b[0m\u001b[0mf\u001b[0m\u001b[0;34m(\u001b[0m\u001b[0mx0\u001b[0m \u001b[0;34m+\u001b[0m \u001b[0mz\u001b[0m\u001b[0;34m)\u001b[0m \u001b[0;34m-\u001b[0m \u001b[0mf\u001b[0m\u001b[0;34m(\u001b[0m\u001b[0mx0\u001b[0m \u001b[0;34m-\u001b[0m \u001b[0mz\u001b[0m\u001b[0;34m)\u001b[0m\u001b[0;34m)\u001b[0m\u001b[0;34m/\u001b[0m\u001b[0mh\u001b[0m\u001b[0;34m\u001b[0m\u001b[0;34m\u001b[0m\u001b[0m\n\u001b[0m\u001b[1;32m     16\u001b[0m     \u001b[0;32mreturn\u001b[0m \u001b[0mGrad\u001b[0m\u001b[0;34m\u001b[0m\u001b[0;34m\u001b[0m\u001b[0m\n\u001b[1;32m     17\u001b[0m \u001b[0;34m\u001b[0m\u001b[0m\n",
      "\u001b[0;31mKeyboardInterrupt\u001b[0m: "
     ]
    }
   ],
   "source": [
    "busqueda_lineal_newton(funcion_costos,[0,0])"
   ]
  },
  {
   "cell_type": "code",
   "execution_count": 131,
   "metadata": {},
   "outputs": [
    {
     "name": "stdout",
     "output_type": "stream",
     "text": [
      "Warning: Cannot change to a different GUI toolkit: widget. Using osx instead.\n"
     ]
    },
    {
     "data": {
      "text/plain": [
       "<mpl_toolkits.mplot3d.art3d.Poly3DCollection at 0x7fec986f5cd0>"
      ]
     },
     "execution_count": 131,
     "metadata": {},
     "output_type": "execute_result"
    }
   ],
   "source": [
    "%matplotlib widget\n",
    "import numpy as np\n",
    "import matplotlib.pyplot as plt\n",
    "\n",
    "\n",
    "fig, ax = plt.subplots(subplot_kw={\"projection\": \"3d\"})\n",
    "\n",
    "#a = 1, b= 100\n",
    "def funcion_costos(x0):\n",
    "    return (1-x0[0])** 2 + (100*(x0[1]-x0[0]**2))**2\n",
    "\n",
    "x = np.linspace(-2,2,100)\n",
    "y = np.linspace(-0.5,3,100)\n",
    "\n",
    "X, Y = np.meshgrid(x, y)\n",
    "x0 = [X,Y] #lista\n",
    "Z = funcion_costos(x0)\n",
    "\n",
    "ax.set_xlabel('x')\n",
    "ax.set_ylabel('y')\n",
    "ax.set_zlabel('f')\n",
    "\n",
    "ax.plot_surface(X, Y, Z, cmap='coolwarm')\n"
   ]
  },
  {
   "cell_type": "markdown",
   "metadata": {},
   "source": [
    "<img src=\"Figure_1.png\" alt=\"Girl in a jacket\" width=\"500\" height=\"600\">"
   ]
  },
  {
   "cell_type": "code",
   "execution_count": null,
   "metadata": {},
   "outputs": [],
   "source": []
  }
 ],
 "metadata": {
  "kernelspec": {
   "display_name": "Python 3",
   "language": "python",
   "name": "python3"
  },
  "language_info": {
   "codemirror_mode": {
    "name": "ipython",
    "version": 3
   },
   "file_extension": ".py",
   "mimetype": "text/x-python",
   "name": "python",
   "nbconvert_exporter": "python",
   "pygments_lexer": "ipython3",
   "version": "3.8.5"
  }
 },
 "nbformat": 4,
 "nbformat_minor": 4
}
