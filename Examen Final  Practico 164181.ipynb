{
 "cells": [
  {
   "cell_type": "code",
   "execution_count": 12,
   "metadata": {
    "collapsed": true,
    "deletable": true,
    "editable": true
   },
   "outputs": [],
   "source": [
    "import numpy as np\n",
    "from numpy import linalg as LA\n",
    "from ipykernel import kernelapp as app\n",
    "import random"
   ]
  },
  {
   "cell_type": "code",
   "execution_count": null,
   "metadata": {
    "collapsed": true,
    "deletable": true,
    "editable": true
   },
   "outputs": [],
   "source": [
    "#### Parte de DFP"
   ]
  },
  {
   "cell_type": "code",
   "execution_count": 7,
   "metadata": {
    "collapsed": true,
    "deletable": true,
    "editable": true
   },
   "outputs": [],
   "source": [
    "def cuadrados(x):\n",
    "    resultado=0\n",
    "    for i in range(len(x)):\n",
    "        resultado+=x[i]**2\n",
    "    return resultado"
   ]
  },
  {
   "cell_type": "code",
   "execution_count": 8,
   "metadata": {
    "collapsed": true,
    "deletable": true,
    "editable": true
   },
   "outputs": [],
   "source": [
    "def Grad(f, x0, h=1e-6, i=-1):\n",
    "    \"\"\"\n",
    "    Función que calcula el Grad de una función en un punto\n",
    "    \"\"\"\n",
    "    n = len(x0)\n",
    "    if i in range(n):\n",
    "        z = np.zeros(n)\n",
    "        z[i] = h/2\n",
    "        Grad = (f(x0 + z) - f(x0 - z))/h\n",
    "    else:\n",
    "        Grad = np.zeros(n)\n",
    "        for j in range(n):\n",
    "            z = np.zeros(n)\n",
    "            z[j] = h/2\n",
    "            Grad[j] = (f(x0 + z) - f(x0 - z))/h\n",
    "    return np.array(Grad)"
   ]
  },
  {
   "cell_type": "code",
   "execution_count": 9,
   "metadata": {
    "collapsed": true,
    "deletable": true,
    "editable": true
   },
   "outputs": [],
   "source": [
    "def Hess(f, x0, h=1e-4, method=\"basic\"):\n",
    "    \"\"\"\n",
    "    Función que calcula la Hessiana  de una función en un punto.\n",
    "    f: función sobre la cual queremos calcular la hessiana.\n",
    "    x0: Punto sobre el cual queremos hacer el cálculo\n",
    "    h: nivel de precisión para hacer el cálculo\n",
    "    method: Método por el cual se quiere hacer puede ser:\n",
    "             'basic', 'grad', 'centered', 'gradCentered'\n",
    "    \"\"\"\n",
    "    n = len(x0)\n",
    "    Hess = np.zeros((n, n))\n",
    "    for i in range(n):\n",
    "        for j in range(n):\n",
    "            z_i = np.zeros(n)\n",
    "            z_i[i] = h\n",
    "            z_j = np.zeros(n)\n",
    "            z_j[j] = h\n",
    "            if method == \"basic\":\n",
    "                Hess[i, j] = (f(x0 + z_j + z_i) - f(x0 + z_i) -\n",
    "                              f(x0+z_j) + f(x0)) / (h**2)\n",
    "            elif method == \"grad\":\n",
    "                Hess[i, j] = (Grad(f, x0+z_j, h, i) - Grad(f, x0, h, i) +\n",
    "                              Grad(f, x0+z_i, h, j) - Grad(f, x0, h, j))/(2*h)\n",
    "            elif method == \"centered\":\n",
    "                if i == j:\n",
    "                    Hess[i, j] = (-f(x0+2*z_i) + 16*f(x0+z_i) - 30*f(x0) +\n",
    "                                  16*f(x0-z_i) - f(x0-2*z_i)) / (12*h**2)\n",
    "                else:\n",
    "                    Hess[i, j] = (f(x0+z_i+z_j) - f(x0 + z_i - z_j) -\n",
    "                                  f(x0 - z_i + z_j) + f(x0-z_i-z_j))/(4*h**2)\n",
    "            elif method == \"gradCentered\":\n",
    "                Hess[i, j] = (Grad(f, x0+z_j, h)[i] - Grad(f, x0-z_j, h)[i] +\n",
    "                              Grad(f, x0+z_i, h)[j] - Grad(f, x0-z_i, h)[j])\\\n",
    "                               / (4 * h)\n",
    "    return Hess"
   ]
  },
  {
   "cell_type": "code",
   "execution_count": 15,
   "metadata": {
    "collapsed": true,
    "deletable": true,
    "editable": true
   },
   "outputs": [],
   "source": [
    "def genera_alpha(f, x0, pk, c1=1e-4, tol=1e-5):\n",
    "    \"\"\"\n",
    "    Backtracking LS i.e. Algoritmo que encuentra una alpha que cumpla condiciones de wolfe. \n",
    "    \"\"\"\n",
    "    alpha, rho, c = 1, 4/5, c1\n",
    "    while f(x0 + alpha*pk)>f(x0) + c*alpha*np.dot(Grad(f, x0),pk):\n",
    "        alpha*=rho\n",
    "    return alpha"
   ]
  },
  {
   "cell_type": "code",
   "execution_count": 10,
   "metadata": {
    "collapsed": true,
    "deletable": true,
    "editable": true
   },
   "outputs": [],
   "source": [
    "# Condicion de DFP en HK\n",
    "def DFP_Hk(yk, sk, Hk):\n",
    "    \"\"\"\n",
    "    Función que calcula La actualización DFP de la matriz Hk\n",
    "    In:\n",
    "      yk: Vector n\n",
    "      sk: Vector n\n",
    "      Hk: Matriz nxn\n",
    "    Out:\n",
    "      Hk+1: Matriz nxn\n",
    "    \"\"\"\n",
    "    Hk1 = Hk - (Hk * yk * yk.T * Hk)/(yk.T * Hk * yk) + (sk * sk.T)/(yk.T * sk)\n",
    "    return Hk1"
   ]
  },
  {
   "cell_type": "code",
   "execution_count": 16,
   "metadata": {
    "collapsed": true,
    "deletable": true,
    "editable": true
   },
   "outputs": [],
   "source": [
    "#Algoritmo de BFGS con actualizacion de Hk de DFP\n",
    "def BFGS_DFP(f, x0, tol, H0, maxiter=100):\n",
    "    k = 0\n",
    "    Gk = Grad(f, x0)\n",
    "    Hk = H0\n",
    "    xk = np.array(x0)\n",
    "    xk1 = np.array(x0)\n",
    "    sk = np.array(100)\n",
    "    while (LA.norm(Gk) > tol and LA.norm(sk) > tol):\n",
    "        pk = - Hk.dot(Gk)\n",
    "        alphak = genera_alpha(f, xk, pk)\n",
    "        xk1 = xk + alphak * pk\n",
    "        sk = xk1 - xk\n",
    "        Gk1 = Grad(f, xk1)\n",
    "        yk = Gk1 - Gk\n",
    "        Hk = DFP_Hk(yk, sk, Hk) ### Actualizacion DFP\n",
    "        k += 1\n",
    "        xk = xk1\n",
    "        Gk = Gk1\n",
    "    return xk1, k"
   ]
  },
  {
   "cell_type": "code",
   "execution_count": 13,
   "metadata": {
    "collapsed": true,
    "deletable": true,
    "editable": true
   },
   "outputs": [],
   "source": [
    "x0=np.array([(-1)**i*10 for i in range(10)])"
   ]
  },
  {
   "cell_type": "code",
   "execution_count": 102,
   "metadata": {
    "collapsed": false,
    "deletable": true,
    "editable": true
   },
   "outputs": [
    {
     "name": "stderr",
     "output_type": "stream",
     "text": [
      "C:\\Users\\Joshi\\AppData\\Local\\Enthought\\Canopy\\edm\\envs\\User\\lib\\site-packages\\ipykernel\\__main__.py:12: RuntimeWarning: invalid value encountered in divide\n"
     ]
    }
   ],
   "source": [
    "# Parte 1\n",
    "x, k = BFGS_DFP(cuadrados, x0, 1e-20, np.eye(10))"
   ]
  },
  {
   "cell_type": "code",
   "execution_count": 103,
   "metadata": {
    "collapsed": false,
    "deletable": true,
    "editable": true
   },
   "outputs": [
    {
     "data": {
      "text/plain": [
       "array([ 10., -10.,  10., -10.,  10., -10.,  10., -10.,  10., -10.])"
      ]
     },
     "execution_count": 103,
     "metadata": {},
     "output_type": "execute_result"
    }
   ],
   "source": [
    "x"
   ]
  },
  {
   "cell_type": "code",
   "execution_count": null,
   "metadata": {
    "collapsed": false,
    "deletable": true,
    "editable": true
   },
   "outputs": [],
   "source": [
    "#### Parte 2 GC"
   ]
  },
  {
   "cell_type": "code",
   "execution_count": 99,
   "metadata": {
    "collapsed": true,
    "deletable": true,
    "editable": true
   },
   "outputs": [],
   "source": [
    "random.seed(164181)\n",
    "n,m=100,1000000 #  n para probar pues se tarda con m\n",
    "Diag_A=[random.randint(1,1000) for x in range(m)]\n",
    "b=[random.randint(1,1000) for x in range(m)]"
   ]
  },
  {
   "cell_type": "code",
   "execution_count": 51,
   "metadata": {
    "collapsed": true,
    "deletable": true,
    "editable": true
   },
   "outputs": [],
   "source": [
    "def gradiente_conjugado(x0, A, b):\n",
    "    xk = x0\n",
    "    b = np.matrix(b).T\n",
    "    rk = np.dot(A, x0) - b\n",
    "    pk = -rk\n",
    "    while not (rk.T * rk ==  0):\n",
    "        alphak = rk.T * rk / (pk.T * A * pk)\n",
    "        alphak= alphak[0,0]\n",
    "        xk_1 = xk + alphak * pk\n",
    "        rk_1 =  rk + alphak * A * pk\n",
    "        betak_1 = (rk_1.T * rk_1) / (rk.T * rk)\n",
    "        betak_1 = betak_1[0,0]\n",
    "        pk_1 = -rk_1 + betak_1 * pk\n",
    "        xk, rk, pk = xk_1, rk_1, pk_1\n",
    "    return xk\n"
   ]
  },
  {
   "cell_type": "code",
   "execution_count": 52,
   "metadata": {
    "collapsed": true,
    "deletable": true,
    "editable": true
   },
   "outputs": [],
   "source": [
    "def gradiente_conjugado_precond(x0, A, b, M):\n",
    "    xk = x0\n",
    "    b = np.matrix(b).T\n",
    "    rk = np.dot(A, x0) - b\n",
    "    yk = np.linalg.solve(M, rk)\n",
    "    pk = -yk \n",
    "    while not (rk.T * rk ==  0):\n",
    "        alphak = rk.T * yk / (pk.T * A * pk)\n",
    "        alphak= alphak[0,0]\n",
    "        xk_1 = xk + alphak * pk\n",
    "        rk_1 =  rk + alphak * A * pk\n",
    "        yk_1 = np.linalg.solve(M, rk_1)\n",
    "        betak_1 = (rk_1.T * rk_1) / (rk.T * rk)\n",
    "        betak_1 = betak_1[0,0]\n",
    "        pk_1 = -yk_1 + betak_1 * pk\n",
    "        xk, rk, pk, yk  = xk_1, rk_1, pk_1, yk_1\n",
    "    return xk"
   ]
  },
  {
   "cell_type": "code",
   "execution_count": 100,
   "metadata": {
    "collapsed": false,
    "deletable": true,
    "editable": true
   },
   "outputs": [],
   "source": [
    "x_0=np.zeros(m)"
   ]
  },
  {
   "cell_type": "code",
   "execution_count": 101,
   "metadata": {
    "collapsed": false,
    "deletable": true,
    "editable": true
   },
   "outputs": [],
   "source": [
    "# Se modificaron las dimensiones de las operaciones para estar definidas y obtener un resultado\n",
    "def gradiente_conjugado_mod(x0, A, b):\n",
    "    k=0\n",
    "    xk = np.array(x0)\n",
    "    A=np.array(A)\n",
    "    b=np.array(b)\n",
    "    rk = A*x0 - b\n",
    "    pk = -rk\n",
    "    while not (LA.norm(rk)==  0):\n",
    "        alphak = LA.norm(rk)**2 / (np.dot(A,pk**2))\n",
    "        alphak= alphak\n",
    "        xk_1 = xk + alphak * pk\n",
    "        rk_1 =  rk + alphak * A * pk\n",
    "        betak_1 = LA.norm(rk_1)**2 / LA.norm(rk)**2\n",
    "        betak_1 = betak_1\n",
    "        pk_1 = -rk_1 + betak_1 * pk\n",
    "        xk, rk, pk,k = xk_1, rk_1, pk_1,k+1\n",
    "    return xk,k"
   ]
  },
  {
   "cell_type": "code",
   "execution_count": 97,
   "metadata": {
    "collapsed": false,
    "deletable": true,
    "editable": true
   },
   "outputs": [],
   "source": [
    "resultado,iteraciones=gradiente_conjugado_mod(x_0, Diag_A, b)"
   ]
  },
  {
   "cell_type": "code",
   "execution_count": 98,
   "metadata": {
    "collapsed": false,
    "deletable": true,
    "editable": true
   },
   "outputs": [
    {
     "name": "stdout",
     "output_type": "stream",
     "text": [
      "(2.1341964563565222e-12, 680)\n"
     ]
    }
   ],
   "source": [
    "print(LA.norm((Diag_A*resultado)-b), iteraciones) # converge a 0 la norma en esas interaciones"
   ]
  },
  {
   "cell_type": "code",
   "execution_count": null,
   "metadata": {
    "collapsed": true,
    "deletable": true,
    "editable": true
   },
   "outputs": [],
   "source": []
  },
  {
   "cell_type": "code",
   "execution_count": null,
   "metadata": {
    "collapsed": true,
    "deletable": true,
    "editable": true
   },
   "outputs": [],
   "source": []
  },
  {
   "cell_type": "code",
   "execution_count": null,
   "metadata": {
    "collapsed": true,
    "deletable": true,
    "editable": true
   },
   "outputs": [],
   "source": []
  },
  {
   "cell_type": "code",
   "execution_count": null,
   "metadata": {
    "collapsed": true,
    "deletable": true,
    "editable": true
   },
   "outputs": [],
   "source": []
  },
  {
   "cell_type": "code",
   "execution_count": null,
   "metadata": {
    "collapsed": true,
    "deletable": true,
    "editable": true
   },
   "outputs": [],
   "source": []
  },
  {
   "cell_type": "code",
   "execution_count": null,
   "metadata": {
    "collapsed": true,
    "deletable": true,
    "editable": true
   },
   "outputs": [],
   "source": []
  },
  {
   "cell_type": "code",
   "execution_count": null,
   "metadata": {
    "collapsed": true,
    "deletable": true,
    "editable": true
   },
   "outputs": [],
   "source": []
  },
  {
   "cell_type": "code",
   "execution_count": null,
   "metadata": {
    "collapsed": true,
    "deletable": true,
    "editable": true
   },
   "outputs": [],
   "source": []
  },
  {
   "cell_type": "code",
   "execution_count": null,
   "metadata": {
    "collapsed": true,
    "deletable": true,
    "editable": true
   },
   "outputs": [],
   "source": []
  },
  {
   "cell_type": "code",
   "execution_count": null,
   "metadata": {
    "collapsed": true,
    "deletable": true,
    "editable": true
   },
   "outputs": [],
   "source": []
  },
  {
   "cell_type": "code",
   "execution_count": null,
   "metadata": {
    "collapsed": true,
    "deletable": true,
    "editable": true
   },
   "outputs": [],
   "source": []
  },
  {
   "cell_type": "code",
   "execution_count": null,
   "metadata": {
    "collapsed": true,
    "deletable": true,
    "editable": true
   },
   "outputs": [],
   "source": []
  },
  {
   "cell_type": "code",
   "execution_count": null,
   "metadata": {
    "collapsed": true,
    "deletable": true,
    "editable": true
   },
   "outputs": [],
   "source": []
  },
  {
   "cell_type": "code",
   "execution_count": null,
   "metadata": {
    "collapsed": true,
    "deletable": true,
    "editable": true
   },
   "outputs": [],
   "source": []
  },
  {
   "cell_type": "code",
   "execution_count": null,
   "metadata": {
    "collapsed": true,
    "deletable": true,
    "editable": true
   },
   "outputs": [],
   "source": []
  },
  {
   "cell_type": "code",
   "execution_count": null,
   "metadata": {
    "collapsed": true,
    "deletable": true,
    "editable": true
   },
   "outputs": [],
   "source": []
  },
  {
   "cell_type": "code",
   "execution_count": null,
   "metadata": {
    "collapsed": true,
    "deletable": true,
    "editable": true
   },
   "outputs": [],
   "source": []
  },
  {
   "cell_type": "code",
   "execution_count": null,
   "metadata": {
    "collapsed": true,
    "deletable": true,
    "editable": true
   },
   "outputs": [],
   "source": []
  },
  {
   "cell_type": "code",
   "execution_count": null,
   "metadata": {
    "collapsed": true,
    "deletable": true,
    "editable": true
   },
   "outputs": [],
   "source": []
  },
  {
   "cell_type": "code",
   "execution_count": null,
   "metadata": {
    "collapsed": true,
    "deletable": true,
    "editable": true
   },
   "outputs": [],
   "source": []
  },
  {
   "cell_type": "code",
   "execution_count": null,
   "metadata": {
    "collapsed": true,
    "deletable": true,
    "editable": true
   },
   "outputs": [],
   "source": []
  },
  {
   "cell_type": "code",
   "execution_count": null,
   "metadata": {
    "collapsed": true,
    "deletable": true,
    "editable": true
   },
   "outputs": [],
   "source": []
  },
  {
   "cell_type": "code",
   "execution_count": null,
   "metadata": {
    "collapsed": true,
    "deletable": true,
    "editable": true
   },
   "outputs": [],
   "source": []
  },
  {
   "cell_type": "code",
   "execution_count": null,
   "metadata": {
    "collapsed": true,
    "deletable": true,
    "editable": true
   },
   "outputs": [],
   "source": []
  },
  {
   "cell_type": "code",
   "execution_count": null,
   "metadata": {
    "collapsed": true,
    "deletable": true,
    "editable": true
   },
   "outputs": [],
   "source": []
  },
  {
   "cell_type": "code",
   "execution_count": null,
   "metadata": {
    "collapsed": true,
    "deletable": true,
    "editable": true
   },
   "outputs": [],
   "source": []
  },
  {
   "cell_type": "code",
   "execution_count": null,
   "metadata": {
    "collapsed": true,
    "deletable": true,
    "editable": true
   },
   "outputs": [],
   "source": []
  },
  {
   "cell_type": "code",
   "execution_count": null,
   "metadata": {
    "collapsed": true,
    "deletable": true,
    "editable": true
   },
   "outputs": [],
   "source": []
  },
  {
   "cell_type": "code",
   "execution_count": null,
   "metadata": {
    "collapsed": true,
    "deletable": true,
    "editable": true
   },
   "outputs": [],
   "source": []
  },
  {
   "cell_type": "code",
   "execution_count": null,
   "metadata": {
    "collapsed": true,
    "deletable": true,
    "editable": true
   },
   "outputs": [],
   "source": []
  },
  {
   "cell_type": "code",
   "execution_count": null,
   "metadata": {
    "collapsed": true,
    "deletable": true,
    "editable": true
   },
   "outputs": [],
   "source": []
  },
  {
   "cell_type": "code",
   "execution_count": null,
   "metadata": {
    "collapsed": true,
    "deletable": true,
    "editable": true
   },
   "outputs": [],
   "source": []
  },
  {
   "cell_type": "code",
   "execution_count": null,
   "metadata": {
    "collapsed": true,
    "deletable": true,
    "editable": true
   },
   "outputs": [],
   "source": []
  },
  {
   "cell_type": "code",
   "execution_count": null,
   "metadata": {
    "collapsed": true,
    "deletable": true,
    "editable": true
   },
   "outputs": [],
   "source": []
  },
  {
   "cell_type": "code",
   "execution_count": null,
   "metadata": {
    "collapsed": true,
    "deletable": true,
    "editable": true
   },
   "outputs": [],
   "source": []
  },
  {
   "cell_type": "code",
   "execution_count": null,
   "metadata": {
    "collapsed": true,
    "deletable": true,
    "editable": true
   },
   "outputs": [],
   "source": []
  },
  {
   "cell_type": "code",
   "execution_count": null,
   "metadata": {
    "collapsed": true,
    "deletable": true,
    "editable": true
   },
   "outputs": [],
   "source": []
  },
  {
   "cell_type": "code",
   "execution_count": null,
   "metadata": {
    "collapsed": true,
    "deletable": true,
    "editable": true
   },
   "outputs": [],
   "source": []
  },
  {
   "cell_type": "code",
   "execution_count": null,
   "metadata": {
    "collapsed": true,
    "deletable": true,
    "editable": true
   },
   "outputs": [],
   "source": []
  }
 ],
 "metadata": {
  "kernelspec": {
   "display_name": "Python 2",
   "language": "python",
   "name": "python2"
  },
  "language_info": {
   "codemirror_mode": {
    "name": "ipython",
    "version": 2
   },
   "file_extension": ".py",
   "mimetype": "text/x-python",
   "name": "python",
   "nbconvert_exporter": "python",
   "pygments_lexer": "ipython2",
   "version": "2.7.13"
  }
 },
 "nbformat": 4,
 "nbformat_minor": 2
}
